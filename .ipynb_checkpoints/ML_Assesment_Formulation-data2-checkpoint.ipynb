{
 "cells": [
  {
   "cell_type": "markdown",
   "metadata": {},
   "source": [
    "<strong>Problem formulation:</strong>\n",
    "<p>Given the coordinates and color of a set of pixels from an image, predict using 3 supervised learning classifiers  the color of any given pixel.</p>\n",
    "<p>You have to choose the first classifier between naive bayes classifier and decision tree classifier and the second classifier between ANN and SVM. The third classifier is of your choice and can be any classifiers different from the other two already used.</p>\n",
    "\n",
    "<strong>Example:</strong>\n",
    "<img src = \"files/data.png\" width = \"256\" height = \"256\"/>\n",
    "<center><strong>Figure 1</strong>\n",
    "\n",
    "For more examples of images and a better understanding of the problem formulation, please see:\n",
    "<a href=\"http://playground.tensorflow.org\">http://playground.tensorflow.org</a>\n",
    "\n",
    "<strong>Task to be completed:</strong>\n",
    "\n",
    "<strong>1.</strong> Generate 2 images using Paint, similar to Figure 1, containing sets of points of two or more colors (minimum 200 points), such that in the first image the set of points should be linearly separable and in the second image, the set of points should be non-linearly separable. Save the images as \"data1.png\" and \"data2.png\".\n",
    "\n",
    "<strong>2.</strong> Create two datasets based on the 2 images from step 1, using the code give below. Analyze and comment this code."
   ]
  },
  {
   "cell_type": "code",
   "execution_count": 41,
   "metadata": {},
   "outputs": [],
   "source": [
    "from PIL import Image\n",
    "import numpy as np\n",
    "\n",
    "def rgb_to_int(r,g,b):\n",
    "    return (r<<16) + (g<<8) + b\n",
    "\n",
    "def read_data(filename):\n",
    "    x = []\n",
    "    y = []\n",
    "    back_color = rgb_to_int(255,255,255)\n",
    "    \n",
    "    image = Image.open(filename)\n",
    "    width,height = image.size\n",
    "    pixels = image.load()\n",
    " \n",
    "    for i in range(width):\n",
    "        for j in range(height):\n",
    "            r,g,b = pixels[i,j]\n",
    "            color = rgb_to_int(r,g,b)\n",
    "            \n",
    "            if (color != back_color):\n",
    "                x.append([i,j])\n",
    "                y.append(color)\n",
    "    return x,y"
   ]
  },
  {
   "cell_type": "code",
   "execution_count": 42,
   "metadata": {},
   "outputs": [],
   "source": [
    "# reate the datasets here\n",
    "x1, y1 = read_data('data1.png')\n",
    "x2, y2 = read_data('data2.png')"
   ]
  },
  {
   "cell_type": "markdown",
   "metadata": {},
   "source": [
    "<strong>3.</strong> Split the first dataset into a training set and a test set  (using 70% for training and 30% for validation)"
   ]
  },
  {
   "cell_type": "code",
   "execution_count": 43,
   "metadata": {
    "scrolled": true
   },
   "outputs": [],
   "source": [
    "#your code here\n",
    "\n",
    "import numpy as np\n",
    "from sklearn import datasets, linear_model\n",
    "from sklearn.model_selection import train_test_split\n",
    "from matplotlib import pyplot as plt\n",
    "\n",
    "# create training and testing vars\n",
    "\n",
    "\n",
    "X1_train, X1_test, y1_train, y1_test = train_test_split(x1, y1, test_size=0.3)\n"
   ]
  },
  {
   "cell_type": "markdown",
   "metadata": {},
   "source": [
    "<strong>4.</strong> Choose either MultinomialNB (naive bayes) or DecisionTreeClassifier from sklearn and train it on the training set generated in step 3."
   ]
  },
  {
   "cell_type": "code",
   "execution_count": 44,
   "metadata": {},
   "outputs": [
    {
     "name": "stdout",
     "output_type": "stream",
     "text": [
      "predicted [16711680]\n",
      "target [16711680]\n"
     ]
    }
   ],
   "source": [
    "# your code here (Multinomial naive bayes)\n",
    "\n",
    "import numpy as np\n",
    "from sklearn.tree import DecisionTreeClassifier\n",
    "\n",
    "clf = DecisionTreeClassifier()\n",
    "clf.fit(X1_train, y1_train)\n",
    "\n",
    "z1 = clf.predict(X1_train[2:3])\n",
    "print('predicted', z1)\n",
    "print('target', y1_train[2:3])\n"
   ]
  },
  {
   "cell_type": "markdown",
   "metadata": {},
   "source": [
    "<strong>5.</strong> Use the classifier trained in step 4 to make predictions on the test set generated in step 3."
   ]
  },
  {
   "cell_type": "code",
   "execution_count": 45,
   "metadata": {},
   "outputs": [],
   "source": [
    "#your code here\n",
    "\n",
    "w1 = clf.predict(X1_test)"
   ]
  },
  {
   "cell_type": "markdown",
   "metadata": {},
   "source": [
    "<strong>6.</strong> Compute the accuracy of the classifier on the test set generated in step 3."
   ]
  },
  {
   "cell_type": "code",
   "execution_count": 46,
   "metadata": {},
   "outputs": [
    {
     "name": "stdout",
     "output_type": "stream",
     "text": [
      "1.0\n"
     ]
    }
   ],
   "source": [
    "#your code here\n",
    "\n",
    "from sklearn.metrics import accuracy_score\n",
    "\n",
    "a1 = accuracy_score(y1_test, w1)\n",
    "\n",
    "print(a1)"
   ]
  },
  {
   "cell_type": "markdown",
   "metadata": {},
   "source": [
    "<strong>7.</strong> Compute precision and recall of the classifier on the test set generated in step 3 and save to file or display the results. Define (theoretically) precision and recall."
   ]
  },
  {
   "cell_type": "code",
   "execution_count": 47,
   "metadata": {},
   "outputs": [
    {
     "name": "stdout",
     "output_type": "stream",
     "text": [
      "             precision    recall  f1-score   support\n",
      "\n",
      "    1908872       1.00      1.00      1.00      1140\n",
      "   16711680       1.00      1.00      1.00      1298\n",
      "\n",
      "avg / total       1.00      1.00      1.00      2438\n",
      "\n"
     ]
    }
   ],
   "source": [
    "#your code here\n",
    "\n",
    "from sklearn.metrics import classification_report \n",
    "\n",
    "b1 = classification_report(y1_test,w1)\n",
    "print(b1)"
   ]
  },
  {
   "cell_type": "markdown",
   "metadata": {},
   "source": [
    "<strong>8.</strong> Predict the color for all the pixels of the first image and save the predicted colors to a new image using the code below (Partial code given. Must be completed). Be able to explain the code below. "
   ]
  },
  {
   "cell_type": "code",
   "execution_count": 48,
   "metadata": {},
   "outputs": [],
   "source": [
    "image = Image.open('data1.png')\n",
    "width, height = image.size\n",
    "\n",
    "def generate_pixel_coordinates():\n",
    "    points = []\n",
    "    for i in range (width):\n",
    "        for j in range(height):\n",
    "            points.append([i,j])\n",
    "            \n",
    "    return points\n",
    "        \n",
    "def getRGBfromI(RGBint):#convert int color code to rgb color code\n",
    "    blue =  RGBint & 255\n",
    "    green = (RGBint >> 8) & 255\n",
    "    red =   (RGBint >> 16) & 255\n",
    "    return red, green, blue\n",
    "\n",
    "def save_data(pixels, colors, output_filename):\n",
    "    \n",
    "    im = Image.new(\"RGB\", (width, height))\n",
    "    pix = im.load()\n",
    "    for i in range(len(pixels)):\n",
    "             pix[pixels[i][0],pixels[i][1]] = getRGBfromI(colors[i])\n",
    "\n",
    "    im.save(output_filename, \"PNG\")    "
   ]
  },
  {
   "cell_type": "code",
   "execution_count": 49,
   "metadata": {},
   "outputs": [],
   "source": [
    "#your code here \n",
    "\n",
    "g1 = generate_pixel_coordinates()\n",
    "\n",
    "z2 = clf.predict(g1)\n",
    "\n",
    "save_data(g1,z2,'results2.png')"
   ]
  },
  {
   "cell_type": "markdown",
   "metadata": {},
   "source": [
    "<img src = \"files/data1.png\" width = \"256\" height = \"256\"/>\n",
    "<img src = \"files/results2.png\" width = \"256\" height = \"256\"/>"
   ]
  },
  {
   "cell_type": "markdown",
   "metadata": {},
   "source": [
    "<strong>9.</strong> Repeat the steps 3-8, using in the step 3, 5-fold cross-validation for splitting the data in training and test sets and compute the cross-validation accurracy and the mean accurracy. Report results for all runs and compare them"
   ]
  },
  {
   "cell_type": "code",
   "execution_count": 50,
   "metadata": {},
   "outputs": [],
   "source": [
    "#your code here\n",
    "\n"
   ]
  },
  {
   "cell_type": "markdown",
   "metadata": {},
   "source": [
    "<strong>10.</strong> Repeat steps 3-8 for the second classifier (chosen between ANN and SVM)."
   ]
  },
  {
   "cell_type": "markdown",
   "metadata": {},
   "source": [
    "<strong>11.</strong> From scikit-learn study the documentation for the second classifier chosen, select two representative hyperparameters and repeat at least 2 times steps 4-8 for different values of these hyperparameters. Report results for all runs and compare them."
   ]
  },
  {
   "cell_type": "markdown",
   "metadata": {},
   "source": [
    "<strong>12.</strong>Use grid search cross validation for optimizing the hyperparameters of the classifiers. Report the optimal parameters given by the search.  Predict the color for all the pixels of the first image using the model with optimal parameters."
   ]
  },
  {
   "cell_type": "markdown",
   "metadata": {},
   "source": [
    "<strong>13.</strong> Repeat all the steps from above for the second image (using the same classifiers). Compare the results obtained with the same classifier respectively for the linear and non-linear cases."
   ]
  },
  {
   "cell_type": "markdown",
   "metadata": {},
   "source": [
    "<strong>14.</strong> Use the third classifier for predicting the color for all pixels of the first and second image. Compare the results obtained for the linear and non-linear cases. Compare the results with those of the other two classifiers used."
   ]
  },
  {
   "cell_type": "markdown",
   "metadata": {},
   "source": [
    "<strong>15.</strong> For the assessment, you must complete all the required steps from above, report and compare the results, make a short presentation of the chosen classifiers  (directly in the Jupyter Notebook) and answer questions related to the presentation. \n",
    "<p>For better understanding on how the results must be represented see the Fig. 2</p>\n",
    "<img src=\"files/Example.PNG\" width=\"1024\" height=\"1024\"/>\n",
    "<center><strong>Figure 2</strong>"
   ]
  },
  {
   "cell_type": "code",
   "execution_count": null,
   "metadata": {},
   "outputs": [],
   "source": []
  }
 ],
 "metadata": {
  "anaconda-cloud": {},
  "kernelspec": {
   "display_name": "Python 3",
   "language": "python",
   "name": "python3"
  },
  "language_info": {
   "codemirror_mode": {
    "name": "ipython",
    "version": 3
   },
   "file_extension": ".py",
   "mimetype": "text/x-python",
   "name": "python",
   "nbconvert_exporter": "python",
   "pygments_lexer": "ipython3",
   "version": "3.6.5"
  }
 },
 "nbformat": 4,
 "nbformat_minor": 1
}
